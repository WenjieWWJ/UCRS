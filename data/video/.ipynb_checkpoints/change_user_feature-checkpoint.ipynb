{
 "cells": [
  {
   "cell_type": "code",
   "execution_count": 1,
   "metadata": {},
   "outputs": [],
   "source": [
    "import os\n",
    "import numpy as np"
   ]
  },
  {
   "cell_type": "code",
   "execution_count": 10,
   "metadata": {},
   "outputs": [
    {
     "name": "stdout",
     "output_type": "stream",
     "text": [
      "[1, 0, 0, 11, 177, 4, 16]\n",
      "[['U451', 'UF1', 'UF0', 'UF0', 'UF18', 'UF0', 'UF3', 'UF19'], ['1', '1', '1', '1', '1', '1', '1', '1']]\n"
     ]
    }
   ],
   "source": [
    "# correct user feature ID\n",
    "# user_feature_file = np.load('user_feature_file_SH.npy', allow_pickle=True).tolist()\n",
    "# user_feature_list = np.load('user_features_list.npy', allow_pickle=True).tolist()\n",
    "# user_feature = np.load('user_feature_SH.npy', allow_pickle=True).tolist()\n",
    "# print(user_feature[451])\n",
    "# print(user_feature_file[451])"
   ]
  },
  {
   "cell_type": "code",
   "execution_count": 11,
   "metadata": {},
   "outputs": [
    {
     "name": "stdout",
     "output_type": "stream",
     "text": [
      "[['U451', 'UF1_1', 'UF2_0', 'UF3_0', 'UF4_18', 'UF5_0', 'UF6_3', 'UF7_19'], ['1', '1', '1', '1', '1', '1', '1', '1']]\n",
      "[['U51', 'UF1_5', 'UF2_0', 'UF3_0', 'UF4_14', 'UF5_39', 'UF6_2', 'UF7_276'], ['1', '1', '1', '1', '1', '1', '1', '1']]\n",
      "[['U4251', 'UF1_3', 'UF2_0', 'UF3_0', 'UF4_12', 'UF5_175', 'UF6_4', 'UF7_154'], ['1', '1', '1', '1', '1', '1', '1', '1']]\n"
     ]
    }
   ],
   "source": [
    "# user_feature_file_new = {}\n",
    "\n",
    "# for user in user_feature_file:\n",
    "#     features = []\n",
    "#     for i, f in enumerate(user_feature_file[user][0]):\n",
    "#         if i == 0:\n",
    "#             features.append(f)\n",
    "#             continue\n",
    "#         features.append(f.replace('UF', 'UF{}_'.format(i)))\n",
    "#     user_feature_file_new[user] = [features, user_feature_file[user][1]]\n",
    "\n",
    "# print(user_feature_file_new[451])\n",
    "# print(user_feature_file_new[51])\n",
    "# print(user_feature_file_new[4251])"
   ]
  },
  {
   "cell_type": "code",
   "execution_count": 12,
   "metadata": {},
   "outputs": [],
   "source": [
    "# np.save('./user_feature_file.npy', np.array(user_feature_file_new))"
   ]
  },
  {
   "cell_type": "code",
   "execution_count": 18,
   "metadata": {},
   "outputs": [
    {
     "name": "stdout",
     "output_type": "stream",
     "text": [
      "[['U451', 'UF1_1', 'UF2_0', 'UF3_0', 'UF4_18', 'UF5_0', 'UF6_3', 'UF7_19'], ['1', '1', '1', '1', '1', '1', '1', '1']]\n",
      "[['U7601', 'UF1_4', 'UF2_0', 'UF3_0', 'UF4_7', 'UF5_111', 'UF6_0', 'UF7_96'], ['1', '1', '1', '1', '1', '1', '1', '1']]\n"
     ]
    }
   ],
   "source": [
    "# flip user gender\n",
    "# user_feature_file = np.load('user_feature_file.npy', allow_pickle=True).tolist()\n",
    "# print(user_feature_file[451])\n",
    "# print(user_feature_file[7601])"
   ]
  },
  {
   "cell_type": "code",
   "execution_count": 11,
   "metadata": {},
   "outputs": [
    {
     "name": "stdout",
     "output_type": "stream",
     "text": [
      "[['U451', 'UF1_1', 'UF2_1', 'UF3_0', 'UF4_18', 'UF5_0', 'UF6_3', 'UF7_19'], ['1', '1', '1', '1', '1', '1', '1', '1']]\n",
      "[['U5551', 'UF1_4', 'UF2_1', 'UF3_0', 'UF4_6', 'UF5_225', 'UF6_1', 'UF7_88'], ['1', '1', '1', '1', '1', '1', '1', '1']]\n"
     ]
    }
   ],
   "source": [
    "# user_feature_file_new = {}\n",
    "# for user in user_feature_file:\n",
    "#     features = user_feature_file[user][0]\n",
    "#     if user_feature_file[user][0][2] == 'UF2_0':\n",
    "#         features[2] = 'UF2_1'\n",
    "#     else:\n",
    "#         features[2] = 'UF2_0'\n",
    "#     user_feature_file_new[user] = [features, user_feature_file[user][1]]\n",
    "# print(user_feature_file_new[451])\n",
    "# print(user_feature_file_new[5551])"
   ]
  },
  {
   "cell_type": "code",
   "execution_count": null,
   "metadata": {},
   "outputs": [],
   "source": [
    "# np.save('./user_feature_flip_gender_file.npy', np.array(user_feature_file_new))"
   ]
  },
  {
   "cell_type": "code",
   "execution_count": 2,
   "metadata": {},
   "outputs": [
    {
     "name": "stdout",
     "output_type": "stream",
     "text": [
      "[['U451', 'UF1_1', 'UF2_0'], ['1', '1', '1']]\n",
      "[['U452', 'UF1_0', 'UF2_1'], ['1', '1', '1']]\n",
      "[['U453', 'UF1_2', 'UF2_0'], ['1', '1', '1']]\n",
      "[['U454', 'UF1_2', 'UF2_0'], ['1', '1', '1']]\n",
      "[['U455', 'UF1_1', 'UF2_0'], ['1', '1', '1']]\n",
      "[['U451', 'UF1_1', 'UF2_0'], ['1', '1', '1']]\n"
     ]
    }
   ],
   "source": [
    "# reduce user feature num\n",
    "user_feature_file = np.load('user_feature_min_file.npy', allow_pickle=True).tolist()\n",
    "print(user_feature_file[451])\n",
    "print(user_feature_file[452])\n",
    "print(user_feature_file[453])\n",
    "print(user_feature_file[454])\n",
    "print(user_feature_file[455])\n",
    "user_feature_file_new = {}\n",
    "for user in user_feature_file:\n",
    "    user_feature_file_new[user] = [[user_feature_file[user][0][0], user_feature_file[user][0][2]], [user_feature_file[user][1][0], user_feature_file[user][1][2]]]\n",
    "print(user_feature_file_new[451])"
   ]
  },
  {
   "cell_type": "code",
   "execution_count": null,
   "metadata": {},
   "outputs": [],
   "source": [
    "np.save('./user_feature_min_woA_file.npy', np.array(user_feature_file_new))"
   ]
  }
 ],
 "metadata": {
  "kernelspec": {
   "display_name": "Python 3",
   "language": "python",
   "name": "python3"
  },
  "language_info": {
   "codemirror_mode": {
    "name": "ipython",
    "version": 3
   },
   "file_extension": ".py",
   "mimetype": "text/x-python",
   "name": "python",
   "nbconvert_exporter": "python",
   "pygments_lexer": "ipython3",
   "version": "3.7.3"
  }
 },
 "nbformat": 4,
 "nbformat_minor": 2
}
