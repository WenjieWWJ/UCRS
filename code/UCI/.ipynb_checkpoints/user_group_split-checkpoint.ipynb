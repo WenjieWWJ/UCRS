{
 "cells": [
  {
   "cell_type": "code",
   "execution_count": 1,
   "metadata": {},
   "outputs": [
    {
     "ename": "ModuleNotFoundError",
     "evalue": "No module named 'model'",
     "output_type": "error",
     "traceback": [
      "\u001b[0;31m---------------------------------------------------------------------------\u001b[0m",
      "\u001b[0;31mModuleNotFoundError\u001b[0m                       Traceback (most recent call last)",
      "\u001b[0;32m<ipython-input-1-aa160ca792af>\u001b[0m in \u001b[0;36m<module>\u001b[0;34m\u001b[0m\n\u001b[1;32m     10\u001b[0m \u001b[0;32mimport\u001b[0m \u001b[0mtorch\u001b[0m\u001b[0;34m.\u001b[0m\u001b[0mbackends\u001b[0m\u001b[0;34m.\u001b[0m\u001b[0mcudnn\u001b[0m \u001b[0;32mas\u001b[0m \u001b[0mcudnn\u001b[0m\u001b[0;34m\u001b[0m\u001b[0;34m\u001b[0m\u001b[0m\n\u001b[1;32m     11\u001b[0m \u001b[0;34m\u001b[0m\u001b[0m\n\u001b[0;32m---> 12\u001b[0;31m \u001b[0;32mimport\u001b[0m \u001b[0mmodel\u001b[0m\u001b[0;34m\u001b[0m\u001b[0;34m\u001b[0m\u001b[0m\n\u001b[0m\u001b[1;32m     13\u001b[0m \u001b[0;32mimport\u001b[0m \u001b[0mevaluate\u001b[0m\u001b[0;34m\u001b[0m\u001b[0;34m\u001b[0m\u001b[0m\n\u001b[1;32m     14\u001b[0m \u001b[0;32mimport\u001b[0m \u001b[0mdata_utils\u001b[0m\u001b[0;34m\u001b[0m\u001b[0;34m\u001b[0m\u001b[0m\n",
      "\u001b[0;31mModuleNotFoundError\u001b[0m: No module named 'model'"
     ]
    }
   ],
   "source": [
    "import os\n",
    "import time\n",
    "import argparse\n",
    "import numpy as np\n",
    "\n",
    "import torch\n",
    "import torch.nn as nn\n",
    "import torch.optim as optim\n",
    "import torch.utils.data as data\n",
    "import torch.backends.cudnn as cudnn\n",
    "\n",
    "import model\n",
    "import evaluate\n",
    "import data_utils\n",
    "import pandas as pd\n",
    "from item_side_utils import *\n",
    "\n",
    "import random\n",
    "random_seed = 1\n",
    "torch.manual_seed(random_seed)\n",
    "torch.cuda.manual_seed(random_seed)\n",
    "np.random.seed(random_seed)\n",
    "random.seed(random_seed)"
   ]
  },
  {
   "cell_type": "code",
   "execution_count": null,
   "metadata": {},
   "outputs": [],
   "source": [
    "data_path = \"/storage/wjwang/filter_bubbles/data/\"\n",
    "# dataset = 'ml_1m'\n",
    "dataset = 'amazon_book_only_first'"
   ]
  },
  {
   "cell_type": "code",
   "execution_count": null,
   "metadata": {},
   "outputs": [],
   "source": [
    "user_target = np.load(data_path+dataset+'/user_target.npy', allow_pickle=True).item()\n",
    "category_list = np.load(data_path+dataset+'/category_list.npy', allow_pickle=True).tolist()\n",
    "item_category = np.load(data_path+dataset+'/item_category.npy', allow_pickle=True).tolist()\n",
    "\n",
    "train_path = data_path + '{}/training_list.npy'.format(dataset)\n",
    "valid_path = data_path + '{}/validation_dict.npy'.format(dataset)\n",
    "test_path = data_path + '{}/testing_dict.npy'.format(dataset)\n",
    "\n",
    "train_list = np.load(train_path, allow_pickle=True).tolist()\n",
    "valid_dict = data_utils.loadData(valid_path)\n",
    "test_dict = data_utils.loadData(test_path)\n",
    "\n",
    "train_dict = {}\n",
    "for pair in train_list:\n",
    "    userID, itemID = pair\n",
    "    if userID not in train_dict:\n",
    "        train_dict[userID] = []\n",
    "    train_dict[userID].append(itemID)"
   ]
  },
  {
   "cell_type": "code",
   "execution_count": null,
   "metadata": {},
   "outputs": [],
   "source": [
    "def get_group_distribution(user_list, interaction_dict, item_feature, category_len, is_category_avg = True):\n",
    "    distribution = [0] * category_len\n",
    "    distribution_user = [0] * category_len\n",
    "    for user in user_list:\n",
    "        distribution = [0] * category_len\n",
    "        for item in interaction_dict[user]:\n",
    "            for cate in item_feature[item]:\n",
    "                if is_category_avg == True:\n",
    "                    distribution[cate] += 1/len(item_feature[item])\n",
    "                else:\n",
    "                    distribution[cate] += 1\n",
    "        distribution_user = [distribution_user[i] + distribution[i]/len(interaction_dict[user]) for i in range(category_len)]\n",
    "    distribution_avg = [i/len(user_list) for i in distribution_user]\n",
    "    return distribution_avg\n",
    "\n",
    "category_len = len(category_list)\n",
    "\n",
    "user_target_weights = {}\n",
    "user_target_weights_small = {}\n",
    "user_mask_main = {}\n",
    "user_distribution_dict = {}\n",
    "user_distribution_list = []\n",
    "\n",
    "user_mask_main_small = {}\n",
    "user_target_main = {}\n",
    "user_target_main_small = {}\n",
    "\n",
    "threshold_max = 0.5\n",
    "threshold_min = 0.1\n",
    "\n",
    "for userID in test_dict:\n",
    "    distribution_avg = get_group_distribution([userID], train_dict, item_category, category_len, False)\n",
    "    indices = np.argsort(-np.array(distribution_avg))\n",
    "    \n",
    "    test_distribution_avg = get_group_distribution([userID], test_dict, item_category, category_len, False)\n",
    "    test_indices = np.argsort(-np.array(test_distribution_avg))\n",
    "    \n",
    "    if distribution_avg[indices[0]] > threshold_max and indices[0] != test_indices[0]: # users with preference drifts\n",
    "        user_target_weights[userID] = test_distribution_avg\n",
    "        user_mask_main[userID] = [indices[0]]\n",
    "        user_target_main[userID] = [test_indices[0]]\n",
    "        \n",
    "        cnt = 0\n",
    "        for item in test_dict[userID]:\n",
    "            if indices[0] not in item_category[item]:\n",
    "                cnt += 1\n",
    "        if cnt > 2:\n",
    "            user_target_weights_small[userID] = test_distribution_avg\n",
    "            user_mask_main_small[userID] = indices[0]\n",
    "            user_target_main_small[userID] = [test_indices[0]]\n",
    "            \n",
    "    user_distribution_dict[userID] = distribution_avg\n",
    "    user_distribution_list.append(distribution_avg)\n",
    "    \n",
    "print(len(user_target_weights))\n",
    "print(len(user_mask_main_small))\n",
    "\n",
    "\n",
    "# np.save(data_path+dataset+'/user_mask_main.npy', user_mask_main)\n",
    "# np.save(data_path+dataset+'/user_target_weights.npy', user_target_weights)\n",
    "# np.save(data_path+dataset+'/user_target_main.npy', user_target_main)\n",
    "\n",
    "# np.save(data_path+dataset+'/user_mask_main_small.npy', user_mask_main_small)\n",
    "# np.save(data_path+dataset+'/user_target_weights_small.npy', user_target_weights_small)\n",
    "# np.save(data_path+dataset+'/user_target_main_small.npy', user_target_main_small)\n",
    "\n",
    "np.save(data_path+dataset+'/user_distribution_dict.npy', user_distribution_dict)\n",
    "np.save(data_path+dataset+'/user_distribution_list.npy', user_distribution_list)"
   ]
  },
  {
   "cell_type": "code",
   "execution_count": null,
   "metadata": {},
   "outputs": [],
   "source": [
    "# 分组不能只限制target cate 里的items要多，main cate里面的items也要多。或者不限制cnt>2"
   ]
  },
  {
   "cell_type": "code",
   "execution_count": null,
   "metadata": {},
   "outputs": [],
   "source": []
  }
 ],
 "metadata": {
  "kernelspec": {
   "display_name": "Python 3",
   "language": "python",
   "name": "python3"
  },
  "language_info": {
   "codemirror_mode": {
    "name": "ipython",
    "version": 3
   },
   "file_extension": ".py",
   "mimetype": "text/x-python",
   "name": "python",
   "nbconvert_exporter": "python",
   "pygments_lexer": "ipython3",
   "version": "3.7.3"
  }
 },
 "nbformat": 4,
 "nbformat_minor": 2
}
