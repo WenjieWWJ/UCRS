{
 "cells": [
  {
   "cell_type": "code",
   "execution_count": null,
   "metadata": {},
   "outputs": [],
   "source": [
    "import os\n",
    "import time\n",
    "import numpy as np\n",
    "\n",
    "import torch\n",
    "import torch.nn as nn\n",
    "import torch.optim as optim\n",
    "import torch.utils.data as data\n",
    "import torch.backends.cudnn as cudnn\n",
    "# from tensorboardX import SummaryWriter\n",
    "\n",
    "import random\n",
    "random_seed = 1\n",
    "torch.manual_seed(random_seed) # cpu\n",
    "torch.cuda.manual_seed(random_seed) #gpu\n",
    "np.random.seed(random_seed) #numpy\n",
    "random.seed(random_seed) #random and transforms\n",
    "torch.backends.cudnn.deterministic=True # cudnn"
   ]
  },
  {
   "cell_type": "code",
   "execution_count": null,
   "metadata": {},
   "outputs": [],
   "source": [
    "data_path = \"/storage/wjwang/filter_bubbles/data/\"\n",
    "dataset = 'ml_1m'\n",
    "user_distribution_dict = np.load(data_path+dataset+'/user_distribution_dict.npy', allow_pickle=True).item()\n",
    "user_distribution_list = np.load(data_path+dataset+'/user_distribution_list.npy', allow_pickle=True).tolist()\n",
    "user_num = len(user_distribution_list)\n",
    "cate_num = len(user_distribution_list[0])\n",
    "print(f'user_num {user_num}; cate_num {cate_num}')"
   ]
  },
  {
   "cell_type": "code",
   "execution_count": null,
   "metadata": {},
   "outputs": [],
   "source": [
    "\n",
    "\n",
    "\n"
   ]
  }
 ],
 "metadata": {
  "kernelspec": {
   "display_name": "Python 3",
   "language": "python",
   "name": "python3"
  },
  "language_info": {
   "codemirror_mode": {
    "name": "ipython",
    "version": 3
   },
   "file_extension": ".py",
   "mimetype": "text/x-python",
   "name": "python",
   "nbconvert_exporter": "python",
   "pygments_lexer": "ipython3",
   "version": "3.7.3"
  }
 },
 "nbformat": 4,
 "nbformat_minor": 2
}
